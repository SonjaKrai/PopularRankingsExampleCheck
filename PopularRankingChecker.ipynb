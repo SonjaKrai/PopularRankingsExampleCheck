{
 "cells": [
  {
   "cell_type": "markdown",
   "metadata": {},
   "source": []
  },
  {
   "cell_type": "code",
   "execution_count": 8,
   "metadata": {},
   "outputs": [],
   "source": [
    "def perm_to_rank(perm):\n",
    "    rank=[i+1 for i in range(len(perm))]\n",
    "    for i in range(len(perm)):\n",
    "        rank[perm[i]-1]=i+1\n",
    "    return rank\n",
    "\n",
    "def rank_to_perm(rank):\n",
    "    perm = [i for i in range(len(rank))]\n",
    "    for i in range(len(rank)):\n",
    "        perm[rank[i]-1]=i+1\n",
    "    return perm"
   ]
  },
  {
   "cell_type": "code",
   "execution_count": 11,
   "metadata": {},
   "outputs": [],
   "source": [
    "def kendall_distance(rank1,rank2):\n",
    "    dist=0\n",
    "    if len(rank1)!=len(rank2):\n",
    "        return -1;\n",
    "    for i in range(len(rank1)):\n",
    "        for j in range(i+1,len(rank1)):\n",
    "         if rank1[i]<rank1[j] and rank2[i]>rank2[j]:\n",
    "             dist+=1\n",
    "         elif rank1[i]>rank1[j] and rank2[i]<rank2[j]:\n",
    "            dist+=1\n",
    "    return dist"
   ]
  },
  {
   "cell_type": "code",
   "execution_count": 17,
   "metadata": {},
   "outputs": [],
   "source": [
    "def more_popular_simple(rank1,rank2,voters):\n",
    "    popularity=0\n",
    "    dont_care=0\n",
    "    for voter in voters:\n",
    "        d1=kendall_distance(voter,rank1)\n",
    "        d2=kendall_distance(voter,rank2)\n",
    "        if d1<d2:\n",
    "            popularity+=1\n",
    "        elif d1==d2:\n",
    "            dont_care+=1\n",
    "    if 2*popularity>len(voters)-dont_care:\n",
    "        return True\n",
    "    else:\n",
    "        return False\n",
    "\n",
    "def is_simply_popular(rank_list,pop,voters):\n",
    "    global save\n",
    "    exists=False\n",
    "    for rank in rank_list:\n",
    "        if more_popular_simple(rank,pop,voters):\n",
    "            exists=True\n",
    "            save=rank_to_perm(rank)\n",
    "            \n",
    "    if exists:\n",
    "        return False\n",
    "    return True"
   ]
  },
  {
   "cell_type": "code",
   "execution_count": 18,
   "metadata": {},
   "outputs": [],
   "source": [
    "def more_popular_abs(rank1,rank2,voters):\n",
    "    popularity=0\n",
    "    for voter in voters:\n",
    "        if kendall_distance(voter,rank1)<kendall_distance(voter,rank2):\n",
    "            popularity+=1\n",
    "    if 2*popularity>len(voters):\n",
    "        return True\n",
    "    else:\n",
    "        return False\n",
    "def is_abs_popular(rank_list,pop,voters):\n",
    "    exists=False\n",
    "    for rank in rank_list:\n",
    "        if more_popular_abs(rank,pop,voters):\n",
    "            exists=True\n",
    "    if exists:\n",
    "        return False\n",
    "    return True"
   ]
  },
  {
   "cell_type": "markdown",
   "metadata": {},
   "source": [
    "Example 1: We consider an instance with 6 voters and show that the ordering [1, 2, 3, 4, 5, 6, 7, 8, 9] is absolute popular but not simple popular."
   ]
  },
  {
   "cell_type": "code",
   "execution_count": 23,
   "metadata": {},
   "outputs": [],
   "source": [
    "voters = [[1, 2, 3, 6, 4, 5, 8, 9, 7], [2, 3, 1, 4, 5, 6, 9, 7, 8], [3, 1, 2, 5, 6, 4, 7, 8, 9], [1, 2, 3, 4, 5, 6, 7, 8, 9], [1, 2, 3, 5, 4, 6, 9, 7, 8], [1, 2, 3, 5, 6, 4, 7, 9, 8]]\n",
    "pi = [1, 2, 3, 4, 5, 6, 7, 8, 9]\n",
    "preferred = [1, 2, 3, 5, 6, 4, 9, 7, 8]"
   ]
  },
  {
   "cell_type": "code",
   "execution_count": 34,
   "metadata": {},
   "outputs": [],
   "source": [
    "\n",
    "def enumerate_perms(perm):\n",
    "    perm_list=[]\n",
    "    perm = [i+1 for i in range(len(perm))]\n",
    "    perm_list.append(perm)\n",
    "    newperm = lexic_perms(perm)\n",
    "    while(perm!=newperm):\n",
    "        perm_list.append(newperm)\n",
    "        memory =newperm\n",
    "        perm=newperm\n",
    "        newperm = lexic_perms(memory)\n",
    "    return perm_list\n",
    "\n",
    "def lexic_perms(perm):\n",
    "    copy = [perm[i] for i in range(len(perm))]\n",
    "    n=len(perm)\n",
    "    for i in range(1,n):\n",
    "        if copy[n-i-1]<copy[n-i]:\n",
    "            min_index = n-i\n",
    "            for j in range(n-i,n):\n",
    "                if copy[j]>copy[n-i-1] and copy[j]<copy[min_index]:\n",
    "                    min_index=j\n",
    "            x = copy[n-i-1]\n",
    "            copy[n-i-1]=copy[min_index]\n",
    "            copy[min_index]=x\n",
    "            rev=copy[n-i:n]\n",
    "            rev.reverse()\n",
    "            for j in range(i):\n",
    "                copy[n-i+j]=rev[j]\n",
    "            break\n",
    "    return copy"
   ]
  },
  {
   "cell_type": "markdown",
   "metadata": {},
   "source": [
    "We create all permutations of 1 up to 9 that preserve 1,2,3 come before 4,5,6 come before 7,8,9."
   ]
  },
  {
   "cell_type": "code",
   "execution_count": 49,
   "metadata": {},
   "outputs": [
    {
     "name": "stdout",
     "output_type": "stream",
     "text": [
      "[[1, 2, 3], [1, 3, 2], [2, 1, 3], [2, 3, 1], [3, 1, 2], [3, 2, 1]]\n"
     ]
    }
   ],
   "source": [
    "perm_list=enumerate_perms([1,2,3])\n",
    "\n",
    "print(perm_list)\n",
    "d1={1:4,2:5,3:6}\n",
    "d2={1:7,2:8,3:9}\n",
    "\n",
    "poss =[]\n",
    "entire_perm=[]\n",
    "for perm in perm_list:\n",
    "    entire_perm=entire_perm +perm\n",
    "    for perm2 in perm_list:\n",
    "        entire_perm+=[d1[i] for i in perm2]\n",
    "        for perm3 in perm_list:\n",
    "            entire_perm+=[d2[i] for i in perm3]\n",
    "            poss.append(entire_perm)\n",
    "            entire_perm=entire_perm[:-3]\n",
    "        entire_perm=entire_perm[:-3]\n",
    "    entire_perm=[]"
   ]
  },
  {
   "cell_type": "code",
   "execution_count": 36,
   "metadata": {},
   "outputs": [],
   "source": [
    "voter_ranks = [perm_to_rank(voter) for voter in voters]\n",
    "ranks = [perm_to_rank(perm) for perm in poss]\n",
    "pi_rank = perm_to_rank(pi)\n",
    "pref_rank = perm_to_rank(preferred)\n"
   ]
  },
  {
   "cell_type": "code",
   "execution_count": 51,
   "metadata": {},
   "outputs": [
    {
     "name": "stdout",
     "output_type": "stream",
     "text": [
      "Let pi=[1, 2, 3, 4, 5, 6, 7, 8, 9]\n",
      "Let sigma=[1, 2, 3, 5, 6, 4, 9, 7, 8]\n",
      "pi is absolutely popular.\n",
      "sigma is preferred by a simple majority to pi.\n"
     ]
    }
   ],
   "source": [
    "print(\"Let pi=\"+str(pi))\n",
    "print(\"Let sigma=\"+str(preferred))\n",
    "\n",
    "if is_abs_popular(ranks,pi_rank,voter_ranks):\n",
    "    print(\"pi is absolutely popular.\")\n",
    "if more_popular_simple(pref_rank,pi_rank,voter_ranks):\n",
    "    print(\"sigma is preferred by a simple majority to pi.\")"
   ]
  },
  {
   "cell_type": "markdown",
   "metadata": {},
   "source": [
    "Example 2:\n",
    "We consider an instance with 8 voters for which ordering [2, 3, 1, 5, 6, 4, 8, 9, 7] is absolute popular and which has no simple popular ordering of the candidates."
   ]
  },
  {
   "cell_type": "code",
   "execution_count": 67,
   "metadata": {},
   "outputs": [],
   "source": [
    "pi_2 = [2, 3, 1, 5, 6, 4, 8, 9, 7]\n",
    "voters_2 = [[1,2,3,6,4,5,8,9,7],[2,3,1,4,5,6,9,7,8],[3,1,2,5,6,4,7,8,9],[2,3,1,5,6,4,8,9,7],[2,3,1,5,6,4,8,9,7],[1,2,3,4,5,6,8,9,7],[1,2,3,5,6,4,7,8,9],[2,3,1,4,5,6,7,8,9]]\n",
    "pi_2_rank = perm_to_rank(pi_2)\n",
    "voter_2_ranks = [perm_to_rank(voter) for voter in voters_2]\n"
   ]
  },
  {
   "cell_type": "code",
   "execution_count": 72,
   "metadata": {},
   "outputs": [
    {
     "name": "stdout",
     "output_type": "stream",
     "text": [
      "Let pi_2=[2, 3, 1, 5, 6, 4, 8, 9, 7]\n",
      "pi_2 is absolutely popular.\n",
      "There is no simple popular ranking for this instance.\n"
     ]
    }
   ],
   "source": [
    "print(\"Let pi_2=\"+str(pi_2))\n",
    "if is_abs_popular(ranks,pi_2_rank,voter_2_ranks):\n",
    "    print(\"pi_2 is absolutely popular.\")\n",
    "    \n",
    "simple_pop_exists=False\n",
    "for rank in ranks:\n",
    "    if (is_simply_popular(ranks,rank,voter_2_ranks)):\n",
    "        print(str(rank_to_perm(rank))+\" is simple popular.\")\n",
    "        simple_pop_exists=True\n",
    "if not simple_pop_exists:\n",
    "    print(\"There is no simple popular ranking for this instance.\")"
   ]
  }
 ],
 "metadata": {
  "kernelspec": {
   "display_name": "Python 3",
   "language": "python",
   "name": "python3"
  },
  "language_info": {
   "codemirror_mode": {
    "name": "ipython",
    "version": 3
   },
   "file_extension": ".py",
   "mimetype": "text/x-python",
   "name": "python",
   "nbconvert_exporter": "python",
   "pygments_lexer": "ipython3",
   "version": "3.7.3"
  }
 },
 "nbformat": 4,
 "nbformat_minor": 2
}
